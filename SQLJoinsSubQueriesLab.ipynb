{
  "cells": [
    {
      "cell_type": "markdown",
      "metadata": {
        "id": "VeLyr3QqBquN"
      },
      "source": [
        "## Introduction\n",
        "\n",
        "In this lab assessment, you'll practice your knowledge of JOIN statements and subqueries, using various types of joins and various methods for specifying the links between them. One of the main benefits of using a relational database is the table relations that define them which allow you to access and connect data together via shared columns. By writing more advanced SQL queries that utilize joins and subqueries you can provide a deeper and more granular level of analysis and data retrieval.\n",
        "\n",
        "This assessment will continue looking at the familiar Northwind database that contains customer relationship management (CRM) data as well as employee and product data. You will take a deeper dive into this database in order to accomplish more advanced SQL queries that require you to access data from multiple tables at once. \n",
        "\n",
        "Imagine that you are working in an analyst role for the sales rep team. They have collaborated with the customer relations and the product teams to take a comprehensive look at the employee to customer pipeline in an attempt to find areas of improvement and potential growth. You have been asked to provide some specific data and statistics regarding this project."
      ]
    },
    {
      "cell_type": "markdown",
      "metadata": {
        "id": "8jkbDVuOB5AH"
      },
      "source": [
        "## Learning Objectives\n",
        "\n",
        "You will be able to:\n",
        "\n",
        "* Write SQL queries that make use of various types of joins\n",
        "* Choose and perform whichever type of join is best for retrieving desired data\n",
        "* Write subqueries to decompose complex queries"
      ]
    },
    {
      "cell_type": "markdown",
      "metadata": {
        "id": "c0hBOncDCN6Y"
      },
      "source": [
        "## Database\n",
        "\n",
        "The database will be the customer relationship management (CRM) database, which has the following ERD.\n",
        "\n",
        "![Database-Schema.png](ERD.png)\n",
        "\n",
        "### Connect to the database\n",
        "\n",
        "In the cell below we have provided the code to import both pandas and sqlite3 as well as define and create the connection to the database you will use. Also displayed is the schema and table names from the database. Use this information in conjunction with the ERD image above to assist in creating your SQL Queries.\n",
        "\n",
        "Major Hint: Look for the shared columns across tables you need to 'join' together."
      ]
    },
    {
      "cell_type": "code",
      "execution_count": 1,
      "metadata": {
        "colab": {
          "base_uri": "https://localhost:8080/",
          "height": 771
        },
        "id": "oWsp6tECDSTB",
        "outputId": "9193fd49-c951-4056-8c0e-b4f9867fbc81"
      },
      "outputs": [
        {
          "data": {
            "text/html": [
              "<div>\n",
              "<style scoped>\n",
              "    .dataframe tbody tr th:only-of-type {\n",
              "        vertical-align: middle;\n",
              "    }\n",
              "\n",
              "    .dataframe tbody tr th {\n",
              "        vertical-align: top;\n",
              "    }\n",
              "\n",
              "    .dataframe thead th {\n",
              "        text-align: right;\n",
              "    }\n",
              "</style>\n",
              "<table border=\"1\" class=\"dataframe\">\n",
              "  <thead>\n",
              "    <tr style=\"text-align: right;\">\n",
              "      <th></th>\n",
              "      <th>type</th>\n",
              "      <th>name</th>\n",
              "      <th>tbl_name</th>\n",
              "      <th>rootpage</th>\n",
              "      <th>sql</th>\n",
              "    </tr>\n",
              "  </thead>\n",
              "  <tbody>\n",
              "    <tr>\n",
              "      <th>0</th>\n",
              "      <td>table</td>\n",
              "      <td>orderdetails</td>\n",
              "      <td>orderdetails</td>\n",
              "      <td>2</td>\n",
              "      <td>CREATE TABLE `orderdetails` (`orderNumber`, `p...</td>\n",
              "    </tr>\n",
              "    <tr>\n",
              "      <th>1</th>\n",
              "      <td>table</td>\n",
              "      <td>payments</td>\n",
              "      <td>payments</td>\n",
              "      <td>28</td>\n",
              "      <td>CREATE TABLE `payments` (`customerNumber`, `ch...</td>\n",
              "    </tr>\n",
              "    <tr>\n",
              "      <th>2</th>\n",
              "      <td>table</td>\n",
              "      <td>offices</td>\n",
              "      <td>offices</td>\n",
              "      <td>32</td>\n",
              "      <td>CREATE TABLE `offices` (`officeCode`, `city`, ...</td>\n",
              "    </tr>\n",
              "    <tr>\n",
              "      <th>3</th>\n",
              "      <td>table</td>\n",
              "      <td>customers</td>\n",
              "      <td>customers</td>\n",
              "      <td>33</td>\n",
              "      <td>CREATE TABLE `customers` (`customerNumber`, `c...</td>\n",
              "    </tr>\n",
              "    <tr>\n",
              "      <th>4</th>\n",
              "      <td>table</td>\n",
              "      <td>orders</td>\n",
              "      <td>orders</td>\n",
              "      <td>38</td>\n",
              "      <td>CREATE TABLE `orders` (`orderNumber`, `orderDa...</td>\n",
              "    </tr>\n",
              "    <tr>\n",
              "      <th>5</th>\n",
              "      <td>table</td>\n",
              "      <td>productlines</td>\n",
              "      <td>productlines</td>\n",
              "      <td>46</td>\n",
              "      <td>CREATE TABLE `productlines` (`productLine`, `t...</td>\n",
              "    </tr>\n",
              "    <tr>\n",
              "      <th>6</th>\n",
              "      <td>table</td>\n",
              "      <td>products</td>\n",
              "      <td>products</td>\n",
              "      <td>47</td>\n",
              "      <td>CREATE TABLE `products` (`productCode`, `produ...</td>\n",
              "    </tr>\n",
              "    <tr>\n",
              "      <th>7</th>\n",
              "      <td>table</td>\n",
              "      <td>employees</td>\n",
              "      <td>employees</td>\n",
              "      <td>56</td>\n",
              "      <td>CREATE TABLE `employees` (`employeeNumber`, `l...</td>\n",
              "    </tr>\n",
              "  </tbody>\n",
              "</table>\n",
              "</div>"
            ],
            "text/plain": [
              "    type          name      tbl_name  rootpage  \\\n",
              "0  table  orderdetails  orderdetails         2   \n",
              "1  table      payments      payments        28   \n",
              "2  table       offices       offices        32   \n",
              "3  table     customers     customers        33   \n",
              "4  table        orders        orders        38   \n",
              "5  table  productlines  productlines        46   \n",
              "6  table      products      products        47   \n",
              "7  table     employees     employees        56   \n",
              "\n",
              "                                                 sql  \n",
              "0  CREATE TABLE `orderdetails` (`orderNumber`, `p...  \n",
              "1  CREATE TABLE `payments` (`customerNumber`, `ch...  \n",
              "2  CREATE TABLE `offices` (`officeCode`, `city`, ...  \n",
              "3  CREATE TABLE `customers` (`customerNumber`, `c...  \n",
              "4  CREATE TABLE `orders` (`orderNumber`, `orderDa...  \n",
              "5  CREATE TABLE `productlines` (`productLine`, `t...  \n",
              "6  CREATE TABLE `products` (`productCode`, `produ...  \n",
              "7  CREATE TABLE `employees` (`employeeNumber`, `l...  "
            ]
          },
          "execution_count": 1,
          "metadata": {},
          "output_type": "execute_result"
        }
      ],
      "source": [
        "# CodeGrade step0\n",
        "# Run this cell without changes\n",
        "\n",
        "# SQL Library and Pandas Library\n",
        "import sqlite3\n",
        "import pandas as pd\n",
        "\n",
        "# Connect to the database\n",
        "conn = sqlite3.connect('data.sqlite')\n",
        "\n",
        "pd.read_sql(\"\"\"SELECT * FROM sqlite_master\"\"\", conn)"
      ]
    },
    {
      "cell_type": "markdown",
      "metadata": {},
      "source": [
        "## Part 1: Join and Filter"
      ]
    },
    {
      "cell_type": "markdown",
      "metadata": {
        "id": "RgXBvTg5Dj4g"
      },
      "source": [
        "### Step 1\n",
        "\n",
        "The company would like to let Boston employees go remote but need to know more information about who is working in that office. Return the first and last names and the job titles for all employees in Boston."
      ]
    },
    {
      "cell_type": "code",
      "execution_count": 33,
      "metadata": {},
      "outputs": [
        {
          "data": {
            "text/html": [
              "<div>\n",
              "<style scoped>\n",
              "    .dataframe tbody tr th:only-of-type {\n",
              "        vertical-align: middle;\n",
              "    }\n",
              "\n",
              "    .dataframe tbody tr th {\n",
              "        vertical-align: top;\n",
              "    }\n",
              "\n",
              "    .dataframe thead th {\n",
              "        text-align: right;\n",
              "    }\n",
              "</style>\n",
              "<table border=\"1\" class=\"dataframe\">\n",
              "  <thead>\n",
              "    <tr style=\"text-align: right;\">\n",
              "      <th></th>\n",
              "      <th>employeeNumber</th>\n",
              "      <th>lastName</th>\n",
              "      <th>firstName</th>\n",
              "      <th>extension</th>\n",
              "      <th>email</th>\n",
              "      <th>officeCode</th>\n",
              "      <th>reportsTo</th>\n",
              "      <th>jobTitle</th>\n",
              "    </tr>\n",
              "  </thead>\n",
              "  <tbody>\n",
              "    <tr>\n",
              "      <th>0</th>\n",
              "      <td>1188</td>\n",
              "      <td>Firrelli</td>\n",
              "      <td>Julie</td>\n",
              "      <td>x2173</td>\n",
              "      <td>jfirrelli@classicmodelcars.com</td>\n",
              "      <td>2</td>\n",
              "      <td>1143</td>\n",
              "      <td>Sales Rep</td>\n",
              "    </tr>\n",
              "    <tr>\n",
              "      <th>1</th>\n",
              "      <td>1216</td>\n",
              "      <td>Patterson</td>\n",
              "      <td>Steve</td>\n",
              "      <td>x4334</td>\n",
              "      <td>spatterson@classicmodelcars.com</td>\n",
              "      <td>2</td>\n",
              "      <td>1143</td>\n",
              "      <td>Sales Rep</td>\n",
              "    </tr>\n",
              "  </tbody>\n",
              "</table>\n",
              "</div>"
            ],
            "text/plain": [
              "  employeeNumber   lastName firstName extension  \\\n",
              "0           1188   Firrelli     Julie     x2173   \n",
              "1           1216  Patterson     Steve     x4334   \n",
              "\n",
              "                             email officeCode reportsTo   jobTitle  \n",
              "0   jfirrelli@classicmodelcars.com          2      1143  Sales Rep  \n",
              "1  spatterson@classicmodelcars.com          2      1143  Sales Rep  "
            ]
          },
          "execution_count": 33,
          "metadata": {},
          "output_type": "execute_result"
        }
      ],
      "source": [
        "# CodeGrade step1\n",
        "# Replace None with your code\n",
        "# Return a table of in officeCode '2' renamed as Boston\n",
        "def get_boston_employees_column_names():\n",
        "    query = \"\"\"\n",
        "    SELECT e.firstName AS first_name, e.lastName AS last_name, e.jobTitle AS job_title\n",
        "    FROM employees e\n",
        "    JOIN offices o ON e.officeCode = o.officeCode\n",
        "    WHERE o.city = 'Boston';\n",
        "    \"\"\"\n",
        "    df = pd.read_sql(query, conn)\n",
        "    return df.columns.tolist()\n",
        "pd.read_sql(\"SELECT * FROM employees WHERE officeCode = '2'\", conn)     \n",
        "def get_boston_employees():\n",
        "    query = \"\"\"\n",
        "    SELECT e.firstName, e.lastName, e.jobTitle, o.city\n",
        "    FROM employees e\n",
        "    JOIN offices o ON e.officeCode = o.officeCode\n",
        "    WHERE o.city = 'Boston';\n",
        "    \"\"\"\n",
        "    df = pd.read_sql(query, conn)\n",
        "    return df\n",
        "\n",
        "# Call the function to execute the query\n",
        "df_boston_employees = get_boston_employees()\n",
        "pd.read_sql (\"SELECT * FROM employees WHERE officeCode = '2'\", conn)"
      ]
    },
    {
      "cell_type": "markdown",
      "metadata": {
        "id": "HFg4zZz3DwsT"
      },
      "source": [
        "### Step 2\n",
        "\n",
        "Recent downsizing and employee attrition have caused some mixups in office tracking and the company is worried they are supporting a 'ghost' location. Are there any offices that have zero employees?"
      ]
    },
    {
      "cell_type": "code",
      "execution_count": null,
      "metadata": {},
      "outputs": [
        {
          "name": "stdout",
          "output_type": "stream",
          "text": [
            "  officeCode           city  employee_count\n",
            "0          1  San Francisco               6\n",
            "1          2         Boston               2\n",
            "2          3            NYC               2\n",
            "3          4          Paris               5\n",
            "4          5          Tokyo               2\n",
            "5          6         Sydney               4\n",
            "6          7         London               2\n"
          ]
        }
      ],
      "source": [
        "# CodeGrade step2\n",
        "# Replace None with your code\n",
        "# List of Offices and the count of number of employees in each office\n",
        "def get_office_employee_counts():\n",
        "    query = \"\"\"\n",
        "    SELECT o.officeCode, o.city, COUNT(e.employeeNumber) AS employee_count\n",
        "    FROM offices o\n",
        "    LEFT JOIN employees e ON o.officeCode = e.officeCode\n",
        "    GROUP BY o.officeCode, o.city;\n",
        "    \"\"\"\n",
        "    df = pd.read_sql(query, conn)\n",
        "    return df\n",
        "# Call the function to execute the query\n",
        "df_office_employee_counts = get_office_employee_counts()\n",
        "pd.read_sql(\"SELECT * FROM offices\", conn)\n",
        "\n",
        "#display the result\n",
        "print(df_office_employee_counts)"
      ]
    },
    {
      "cell_type": "markdown",
      "metadata": {},
      "source": [
        "## Part 2: Type of Join"
      ]
    },
    {
      "cell_type": "markdown",
      "metadata": {
        "id": "WjQpZqZ4ERx7"
      },
      "source": [
        "### Step 3\n",
        "\n",
        "As a part of this larger analysis project the HR department is taking the time to audit employee records to make sure nothing is out of place and have asked you to produce a report of all employees. Return the employees first name and last name along with the city and state of the office that they work out of (if they have one). Include all employees and order them by their first name, then their last name."
      ]
    },
    {
      "cell_type": "code",
      "execution_count": null,
      "metadata": {},
      "outputs": [
        {
          "name": "stdout",
          "output_type": "stream",
          "text": [
            "   firstName   lastName           city       state\n",
            "0       Andy     Fixter         Sydney            \n",
            "1    Anthony        Bow  San Francisco          CA\n",
            "2      Barry      Jones         London            \n",
            "3      Diane     Murphy  San Francisco          CA\n",
            "4   Foon Yue      Tseng            NYC          NY\n",
            "5     George     Vanauf            NYC          NY\n",
            "6     Gerard     Bondur          Paris            \n",
            "7     Gerard  Hernandez          Paris            \n",
            "8       Jeff   Firrelli  San Francisco          CA\n",
            "9      Julie   Firrelli         Boston          MA\n",
            "10     Larry       Bott         London            \n",
            "11    Leslie   Jennings  San Francisco          CA\n",
            "12    Leslie   Thompson  San Francisco          CA\n",
            "13      Loui     Bondur          Paris            \n",
            "14      Mami      Nishi          Tokyo  Chiyoda-Ku\n",
            "15    Martin     Gerard          Paris            \n",
            "16      Mary  Patterson  San Francisco          CA\n",
            "17    Pamela   Castillo          Paris            \n",
            "18     Peter      Marsh         Sydney            \n",
            "19     Steve  Patterson         Boston          MA\n",
            "20       Tom       King         Sydney            \n",
            "21   William  Patterson         Sydney            \n",
            "22   Yoshimi       Kato          Tokyo  Chiyoda-Ku\n"
          ]
        }
      ],
      "source": [
        "# CodeGrade step3\n",
        "# Replace None with your code\n",
        "# List of employees and location they work \n",
        "def get_employee_office_info():\n",
        "    query = \"\"\"\n",
        "    SELECT e.firstName, e.lastName, o.city, o.state\n",
        "    FROM employees e\n",
        "    JOIN offices o ON e.officeCode = o.officeCode\n",
        "    ORDER BY e.firstName, e.lastName;\n",
        "    \"\"\"\n",
        "    df = pd.read_sql(query, conn)\n",
        "    return df\n",
        "# Call the function to execute the query\n",
        "df_employee_office_info = get_employee_office_info()\n",
        "#display the result\n",
        "print(df_employee_office_info)\n"
      ]
    },
    {
      "cell_type": "markdown",
      "metadata": {
        "id": "VwT9eePzEl8I"
      },
      "source": [
        "### Step 4\n",
        "The customer management and sales rep team know that they have several 'customers' in the system that have not placed any orders. They want to reach out to these customers with updated product catalogs to try and get them to place initial orders. Return all of the customer's contact information (first name, last name, and phone number) as well as their sales rep's employee number for any customer that has not placed an order. Sort the results alphabetically based on the contact's last name\n",
        "\n",
        "There are several approaches you could take here, including a left join and filtering on null values or using a subquery to filter out customers who do have orders. In total there are 24 customers who have not placed an order."
      ]
    },
    {
      "cell_type": "code",
      "execution_count": null,
      "metadata": {},
      "outputs": [
        {
          "name": "stdout",
          "output_type": "stream",
          "text": [
            "   contactFirstName  contactLastName             phone salesRepEmployeeNumber\n",
            "0            Raanan      Altagar,G M  + 972 9 959 8555                       \n",
            "1               Mel         Andersen       030-0074555                       \n",
            "2            Carmen            Anton    +34 913 728555                       \n",
            "3        Alejandra            Camino     (91) 745 6555                       \n",
            "4           Philip            Cramer        0555-09555                       \n",
            "5        Alexander             Feuer       0342-555176                       \n",
            "6             Keith           Franco        2035557845                   1286\n",
            "7            Peter           Franken       089-0877555                       \n",
            "8                Ed         Harrison  +41 26 425 50 01                       \n",
            "9             Karin          Josephs       0251-555259                       \n",
            "10           Horst             Kloss       0372-555188                       \n",
            "11           Armand            Kuger   +27 21 550 3555                       \n",
            "12        Patricia           McKenna          2967 555                       \n",
            "13          Renate           Messner       069-0555984                       \n",
            "14           Hanna              Moos        0621-08555                       \n",
            "15            Rita            Müller       0711-555361                       \n",
            "16            Sven           Ottlieb       0241-039123                       \n",
            "17         Zbyszek   Piestrzeniewicz     (26) 642-7555                       \n",
            "18            Lino         Rodriguez      (1) 354-2555                       \n",
            "19          Bradley         Schuyler   +31 20 491 9555                       \n",
            "20       Alexander           Semenov   +7 812 293 0521                       \n",
            "21            Braun              Urs       0452-076555                   1702\n",
            "22           Brydey           Walker    +612 9411 1555                       \n",
            "23          Isabel         de Castro      (1) 356-5555                       \n"
          ]
        }
      ],
      "source": [
        "# CodeGrade step4\n",
        "# Replace None with your code\n",
        "# List of customers, phone, and salesRepEmployeeNumber with zero orders\n",
        "def get_customers_with_no_orders():\n",
        "    query = \"\"\"\n",
        "    SELECT c.contactFirstName, c.contactLastName, c.phone, c.salesRepEmployeeNumber\n",
        "    FROM customers c\n",
        "    LEFT JOIN orders o ON c.customerNumber = o.customerNumber\n",
        "    WHERE o.orderNumber IS NULL\n",
        "    ORDER BY c.contactLastName;\n",
        "    \"\"\"\n",
        "    df = pd.read_sql(query, conn)\n",
        "    return df\n",
        "# Call the function to execute the query\n",
        "df_customers_with_no_orders = get_customers_with_no_orders()\n",
        "#display the result\n",
        "print(df_customers_with_no_orders)\n"
      ]
    },
    {
      "cell_type": "markdown",
      "metadata": {},
      "source": [
        "## Part 3: Built-in Function"
      ]
    },
    {
      "cell_type": "markdown",
      "metadata": {
        "id": "YSiD-VGsE3tt"
      },
      "source": [
        "### Step 5\n",
        "\n",
        "The accounting team is auditing their figures and wants to make sure all customer payments are in alignment, they have asked you to produce a report of all the customer contacts (first and last names) along with details for each of the customers' payment amounts and date of payment. They have asked that these results be sorted in descending order by the payment amount.\n",
        "\n",
        "Hint: A member of their team mentioned that they are not sure the 'amount' column is being stored as the right datatype so keep this in mind when sorting."
      ]
    },
    {
      "cell_type": "code",
      "execution_count": null,
      "metadata": {},
      "outputs": [
        {
          "name": "stdout",
          "output_type": "stream",
          "text": [
            "    customerNumber contactFirstName contactLastName     amount paymentDate\n",
            "0              462          Violeta         Benitez    9977.85  2003-11-08\n",
            "1              333              Ben        Calaghan    9821.32  2003-10-17\n",
            "2              198           Leslie          Taylor    9658.74  2004-12-06\n",
            "3              471             Sean        Clenahan    9415.13  2004-07-28\n",
            "4              452          Roland           Mendel    8807.12  2005-05-03\n",
            "..             ...              ...             ...        ...         ...\n",
            "268            124            Susan          Nelson   11044.30  2003-04-11\n",
            "269            148             Eric       Natividad  105743.00  2003-12-26\n",
            "270            128           Roland          Keitel   10549.01  2003-01-28\n",
            "271            363          Dorothy           Young   10223.83  2003-01-16\n",
            "272            124            Susan          Nelson  101244.59  2005-03-05\n",
            "\n",
            "[273 rows x 5 columns]\n"
          ]
        }
      ],
      "source": [
        "# CodeGrade step5\n",
        "# Replace None with your code\n",
        "# List of payments and customers with the payment amount and date\n",
        "def get_payments_with_customers():\n",
        "    query = \"\"\"\n",
        "    SELECT p.customerNumber, c.contactFirstName, c.contactLastName, p.amount, p.paymentDate\n",
        "    FROM payments p\n",
        "    JOIN customers c ON p.customerNumber = c.customerNumber\n",
        "    ORDER BY amount DESC;\n",
        "    \"\"\"\n",
        "    df_payment = pd.read_sql(query, conn)\n",
        "    return df_payment\n",
        "# Call the function to execute the query\n",
        "# display the result\n",
        "print(get_payments_with_customers())"
      ]
    },
    {
      "cell_type": "markdown",
      "metadata": {},
      "source": [
        "## Part 4: Joining and Grouping"
      ]
    },
    {
      "cell_type": "markdown",
      "metadata": {},
      "source": [
        "### Step 6\n",
        "\n",
        "The sales rep team has noticed several key team members that stand out as having trustworthy business relations with their customers, reflected by high credit limits indicating more potential for orders. The team wants you to identify these 4 individuals. Return the employee number, first name, last name, and number of customers for employees whose customers have an average credit limit over 90k. Sort by number of customers from high to low."
      ]
    },
    {
      "cell_type": "code",
      "execution_count": null,
      "metadata": {},
      "outputs": [
        {
          "name": "stdout",
          "output_type": "stream",
          "text": [
            "   employeeNumber firstName   lastName  customer_count\n",
            "0            1401    Pamela   Castillo              10\n",
            "1            1504     Barry      Jones               9\n",
            "2            1323    George     Vanauf               8\n",
            "3            1501     Larry       Bott               8\n",
            "4            1286  Foon Yue      Tseng               7\n",
            "5            1370    Gerard  Hernandez               7\n",
            "6            1165    Leslie   Jennings               6\n",
            "7            1166    Leslie   Thompson               6\n",
            "8            1188     Julie   Firrelli               6\n",
            "9            1216     Steve  Patterson               6\n",
            "10           1337      Loui     Bondur               6\n",
            "11           1702    Martin     Gerard               6\n",
            "12           1611      Andy     Fixter               5\n",
            "13           1612     Peter      Marsh               5\n",
            "14           1621      Mami      Nishi               5\n"
          ]
        }
      ],
      "source": [
        "# CodeGrade step6\n",
        "# Replace None with your code\n",
        "# List of employeeNumber, and name with number of customers whose average credit limit is greater than 90,000\n",
        "def get_employees_with_high_credit_customers():\n",
        "    query = \"\"\"\n",
        "    SELECT e.employeeNumber, e.firstName, e.lastName, COUNT(c.customerNumber) AS customer_count\n",
        "    FROM employees e\n",
        "    JOIN customers c ON e.employeeNumber = c.salesRepEmployeeNumber\n",
        "    WHERE c.creditLimit > 90000\n",
        "    GROUP BY e.employeeNumber, e.firstName, e.lastName\n",
        "    ORDER BY customer_count DESC;\n",
        "    \"\"\"\n",
        "    df_credit = pd.read_sql(query, conn)\n",
        "    return df_credit\n",
        "# Call the function to execute the query\n",
        "#display the result\n",
        "print(get_employees_with_high_credit_customers())"
      ]
    },
    {
      "cell_type": "markdown",
      "metadata": {
        "id": "oBc9ymJOFB7k"
      },
      "source": [
        "### Step 7\n",
        "\n",
        "The product team is looking to create new model kits and wants to know which current products are selling the most in order to get an idea of what is popular. Return the product name and count the number of orders for each product as a column named 'numorders'. Also return a new column, 'totalunits', that sums up the total quantity of product sold (use the quantityOrdered column). Sort the results by the totalunits column, highest to lowest, to showcase the top selling products."
      ]
    },
    {
      "cell_type": "code",
      "execution_count": null,
      "metadata": {},
      "outputs": [
        {
          "name": "stdout",
          "output_type": "stream",
          "text": [
            "                                 productName  numorders  totalunits\n",
            "0                1992 Ferrari 360 Spider red         53        1808\n",
            "1                       1937 Lincoln Berline         28        1111\n",
            "2                  American Airlines: MD-11S         28        1085\n",
            "3    1941 Chevrolet Special Deluxe Cabriolet         28        1076\n",
            "4               1930 Buick Marquette Phaeton         28        1074\n",
            "..                                       ...        ...         ...\n",
            "104             1999 Indy 500 Monte Carlo SS         25         855\n",
            "105                       1911 Ford Town Car         25         832\n",
            "106         1936 Mercedes Benz 500k Roadster         25         824\n",
            "107               1970 Chevy Chevelle SS 454         25         803\n",
            "108                    1957 Ford Thunderbird         24         767\n",
            "\n",
            "[109 rows x 3 columns]\n"
          ]
        }
      ],
      "source": [
        "# CodeGrade step7\n",
        "# Replace None with your code\n",
        "# List of product, number of orders for each product \n",
        "df_product_sold = pd.read_sql(\"\"\"\n",
        "SELECT p.productName, COUNT(o.orderNumber) AS numorders, SUM(od.quantityOrdered) AS totalunits\n",
        "FROM products p\n",
        "JOIN orderdetails od ON p.productCode = od.productCode\n",
        "JOIN orders o ON od.orderNumber = o.orderNumber\n",
        "GROUP BY p.productName\n",
        "ORDER BY totalunits DESC;\n",
        "\"\"\", conn)\n",
        "def get_top_selling_products():\n",
        "    return df_product_sold\n",
        "# Call the function to execute the query\n",
        "df_top_selling_products = get_top_selling_products()\n",
        "#display the result\n",
        "print(df_top_selling_products)"
      ]
    },
    {
      "cell_type": "markdown",
      "metadata": {},
      "source": [
        "## Part 5: Multiple Joins"
      ]
    },
    {
      "cell_type": "markdown",
      "metadata": {
        "id": "rC9zNmRgFeIu"
      },
      "source": [
        "### Step 8\n",
        "\n",
        "As a follow-up to the above question, the product team also wants to know how many different customers ordered each product to get an idea of market reach. Return the product name, code, and the total number of customers who have ordered each product, aliased as 'numpurchasers'. Sort the results by the highest  number of purchasers.\n",
        "\n",
        "Hint: You might need to join more than 2 tables. Use DISTINCT to return unique/different values."
      ]
    },
    {
      "cell_type": "code",
      "execution_count": null,
      "metadata": {},
      "outputs": [
        {
          "name": "stdout",
          "output_type": "stream",
          "text": [
            "                             productName productCode  numpurchasers\n",
            "0            1992 Ferrari 360 Spider red    S18_3232             40\n",
            "1                     1934 Ford V8 Coupe    S18_2957             27\n",
            "2               1952 Alpine Renault 1300    S10_1949             27\n",
            "3                    1972 Alfa Romeo GTA    S10_4757             27\n",
            "4                       Boeing X-32A JSF    S72_1253             27\n",
            "..                                   ...         ...            ...\n",
            "104  1958 Chevy Corvette Limited Edition    S24_2840             19\n",
            "105                   1949 Jaguar XK 120    S24_2766             18\n",
            "106                    1952 Citroen-15CV    S24_2887             18\n",
            "107            1969 Chevrolet Camaro Z28    S24_3191             18\n",
            "108                  2002 Chevy Corvette    S24_3432             18\n",
            "\n",
            "[109 rows x 3 columns]\n"
          ]
        }
      ],
      "source": [
        "# CodeGrade step8\n",
        "# Replace None with your code\n",
        "# List of product name, code, and total number of customers who have ordered \n",
        "def get_product_purchasers():\n",
        "    query = \"\"\"\n",
        "    SELECT p.productName, p.productCode, COUNT(DISTINCT o.customerNumber) AS numpurchasers\n",
        "    FROM products p\n",
        "    JOIN orderdetails od ON p.productCode = od.productCode\n",
        "    JOIN orders o ON od.orderNumber = o.orderNumber\n",
        "    GROUP BY p.productName, p.productCode\n",
        "    ORDER BY numpurchasers DESC;\n",
        "    \"\"\"\n",
        "    df = pd.read_sql(query, conn)\n",
        "    return df\n",
        "# Call the function to execute the query\n",
        "df_product_purchasers = get_product_purchasers()\n",
        "#display the result\n",
        "print(df_product_purchasers)"
      ]
    },
    {
      "cell_type": "markdown",
      "metadata": {},
      "source": [
        "### Step 9\n",
        "\n",
        "The custom relations team is worried they are not staffing locations properly to account for customer volume. They want to know how many customers there are per office. Return the count as a column named 'n_customers'. Also return the office code and city."
      ]
    },
    {
      "cell_type": "code",
      "execution_count": null,
      "metadata": {},
      "outputs": [
        {
          "name": "stdout",
          "output_type": "stream",
          "text": [
            "  officeCode           city  n_customers\n",
            "0          4          Paris           29\n",
            "1          7         London           17\n",
            "2          3            NYC           15\n",
            "3          1  San Francisco           12\n",
            "4          2         Boston           12\n",
            "5          6         Sydney           10\n",
            "6          5          Tokyo            5\n"
          ]
        }
      ],
      "source": [
        "# CodeGrade step9\n",
        "# Replace None with your code\n",
        "# List of how many customers there are per office \n",
        "def get_customers_per_office():\n",
        "    query = \"\"\"\n",
        "    SELECT o.officeCode, o.city, COUNT(DISTINCT c.customerNumber) AS n_customers\n",
        "    FROM offices o\n",
        "    LEFT JOIN employees e ON o.officeCode = e.officeCode\n",
        "    LEFT JOIN customers c ON e.employeeNumber = c.salesRepEmployeeNumber\n",
        "    GROUP BY o.officeCode, o.city\n",
        "    ORDER BY n_customers DESC;\n",
        "    \"\"\"\n",
        "    df = pd.read_sql(query, conn)\n",
        "    return df\n",
        "# Call the function to execute the query\n",
        "df_customers_per_office = get_customers_per_office()\n",
        "#display the result\n",
        "print(df_customers_per_office)"
      ]
    },
    {
      "cell_type": "markdown",
      "metadata": {},
      "source": [
        "## Part 6: Subquery"
      ]
    },
    {
      "cell_type": "markdown",
      "metadata": {
        "id": "If3Bste-Fulo"
      },
      "source": [
        "### Step 10\n",
        "\n",
        "Having looked at the results from above, the product team is curious to dig into the underperforming products. They want to ask members of the team who have sold these products about what kind of messaging was successful in getting a customer to buy these specific products. Using a subquery or common table expression (CTE), select the employee number, first name, last name, city of the office, and the office code for employees who sold products that have been ordered by fewer than 20 customers.\n",
        "\n",
        "Hint: Start with the subquery, find all the products that have been ordered by 19 or less customers, consider adapting one of your previous queries."
      ]
    },
    {
      "cell_type": "code",
      "execution_count": 49,
      "metadata": {},
      "outputs": [
        {
          "name": "stdout",
          "output_type": "stream",
          "text": [
            "   employeeNumber firstName   lastName           city  n_customers\n",
            "0            1002     Diane     Murphy  San Francisco            0\n",
            "1            1056      Mary  Patterson  San Francisco            0\n",
            "2            1076      Jeff   Firrelli  San Francisco            0\n",
            "3            1088   William  Patterson         Sydney            0\n",
            "4            1102    Gerard     Bondur          Paris            0\n",
            "5            1143   Anthony        Bow  San Francisco            0\n",
            "6            1619       Tom       King         Sydney            0\n",
            "7            1625   Yoshimi       Kato          Tokyo            0\n",
            "8            1611      Andy     Fixter         Sydney            5\n",
            "9            1612     Peter      Marsh         Sydney            5\n",
            "10           1621      Mami      Nishi          Tokyo            5\n",
            "11           1165    Leslie   Jennings  San Francisco            6\n",
            "12           1166    Leslie   Thompson  San Francisco            6\n",
            "13           1188     Julie   Firrelli         Boston            6\n",
            "14           1216     Steve  Patterson         Boston            6\n",
            "15           1337      Loui     Bondur          Paris            6\n",
            "16           1702    Martin     Gerard          Paris            6\n",
            "17           1286  Foon Yue      Tseng            NYC            7\n",
            "18           1370    Gerard  Hernandez          Paris            7\n",
            "19           1323    George     Vanauf            NYC            8\n",
            "20           1501     Larry       Bott         London            8\n",
            "21           1504     Barry      Jones         London            9\n",
            "22           1401    Pamela   Castillo          Paris           10\n"
          ]
        }
      ],
      "source": [
        "# CodeGrade step10\n",
        "# Replace None with your code\n",
        "# List of employees with less than 20 customers, their office, and city \n",
        "def get_employees_with_few_customers():\n",
        "    query = \"\"\"\n",
        "    SELECT e.employeeNumber, e.firstName, e.lastName, o.city, COUNT(c.customerNumber) AS n_customers\n",
        "    FROM employees e\n",
        "    JOIN offices o ON e.officeCode = o.officeCode\n",
        "    LEFT JOIN customers c ON e.employeeNumber = c.salesRepEmployeeNumber\n",
        "    GROUP BY e.employeeNumber, e.firstName, e.lastName, o.city\n",
        "    HAVING n_customers < 20\n",
        "    ORDER BY n_customers ASC;\n",
        "    \"\"\"\n",
        "    df = pd.read_sql(query, conn)\n",
        "    return df\n",
        "# Call the function to execute the query\n",
        "df_employees_with_few_customers = get_employees_with_few_customers()\n",
        "#display the result\n",
        "print(df_employees_with_few_customers)"
      ]
    },
    {
      "cell_type": "markdown",
      "metadata": {
        "id": "b0YHiqxXGa-5"
      },
      "source": [
        "### Close the connection"
      ]
    },
    {
      "cell_type": "code",
      "execution_count": 50,
      "metadata": {
        "id": "oEcx2cZ2Gc21"
      },
      "outputs": [],
      "source": [
        "# Run this cell without changes\n",
        "\n",
        "conn.close()"
      ]
    }
  ],
  "metadata": {
    "colab": {
      "provenance": []
    },
    "kernelspec": {
      "display_name": "Python 3 (ipykernel)",
      "language": "python",
      "name": "python3"
    },
    "language_info": {
      "codemirror_mode": {
        "name": "ipython",
        "version": 3
      },
      "file_extension": ".py",
      "mimetype": "text/x-python",
      "name": "python",
      "nbconvert_exporter": "python",
      "pygments_lexer": "ipython3",
      "version": "3.12.4"
    }
  },
  "nbformat": 4,
  "nbformat_minor": 0
}
